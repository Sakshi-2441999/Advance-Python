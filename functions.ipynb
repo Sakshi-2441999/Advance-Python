{
 "cells": [
  {
   "cell_type": "code",
   "execution_count": null,
   "id": "a3311b59",
   "metadata": {},
   "outputs": [],
   "source": [
    "#Advance Python"
   ]
  },
  {
   "cell_type": "code",
   "execution_count": 3,
   "id": "92d0f56d",
   "metadata": {},
   "outputs": [],
   "source": [
    "import pandas as pd"
   ]
  },
  {
   "cell_type": "code",
   "execution_count": 2,
   "id": "2f58e4df",
   "metadata": {},
   "outputs": [],
   "source": [
    "import numpy as np"
   ]
  },
  {
   "cell_type": "code",
   "execution_count": 5,
   "id": "6f6efbb5",
   "metadata": {},
   "outputs": [
    {
     "data": {
      "text/plain": [
       "7"
      ]
     },
     "execution_count": 5,
     "metadata": {},
     "output_type": "execute_result"
    }
   ],
   "source": [
    "a =3\n",
    "b = 4\n",
    "a+b"
   ]
  },
  {
   "cell_type": "code",
   "execution_count": 6,
   "id": "3b485f9e",
   "metadata": {},
   "outputs": [],
   "source": [
    "def add(x,y):\n",
    "      \"\"\"this function will give addition of two number\"\"\"\n",
    "      z= x+y\n",
    "      return z"
   ]
  },
  {
   "cell_type": "code",
   "execution_count": 7,
   "id": "5cc5d451",
   "metadata": {},
   "outputs": [
    {
     "data": {
      "text/plain": [
       "11"
      ]
     },
     "execution_count": 7,
     "metadata": {},
     "output_type": "execute_result"
    }
   ],
   "source": [
    "add(5,6)"
   ]
  },
  {
   "cell_type": "markdown",
   "id": "aedcd4fd",
   "metadata": {},
   "source": [
    "add(5,6)"
   ]
  },
  {
   "cell_type": "code",
   "execution_count": 8,
   "id": "369ea194",
   "metadata": {},
   "outputs": [
    {
     "data": {
      "text/plain": [
       "11"
      ]
     },
     "execution_count": 8,
     "metadata": {},
     "output_type": "execute_result"
    }
   ],
   "source": [
    "add(5,6)"
   ]
  },
  {
   "cell_type": "code",
   "execution_count": 10,
   "id": "5a3a2351",
   "metadata": {},
   "outputs": [
    {
     "data": {
      "text/plain": [
       "'datascience'"
      ]
     },
     "execution_count": 10,
     "metadata": {},
     "output_type": "execute_result"
    }
   ],
   "source": [
    "add('data', 'science')"
   ]
  },
  {
   "cell_type": "code",
   "execution_count": null,
   "id": "1f8c79d5",
   "metadata": {},
   "outputs": [],
   "source": [
    "# Type Hinting\n",
    " multiplaction of two numbers"
   ]
  },
  {
   "cell_type": "code",
   "execution_count": 13,
   "id": "91fb31ef",
   "metadata": {},
   "outputs": [
    {
     "ename": "SyntaxError",
     "evalue": "invalid syntax. Perhaps you forgot a comma? (1700546926.py, line 1)",
     "output_type": "error",
     "traceback": [
      "  \u001b[36mCell\u001b[39m\u001b[36m \u001b[39m\u001b[32mIn[13]\u001b[39m\u001b[32m, line 1\u001b[39m\n\u001b[31m    \u001b[39m\u001b[31mdef mul(x : int[float , y : int]float):\u001b[39m\n                ^\n\u001b[31mSyntaxError\u001b[39m\u001b[31m:\u001b[39m invalid syntax. Perhaps you forgot a comma?\n"
     ]
    }
   ],
   "source": [
    "def mul(x : int[float , y : int]float):\n",
    "    c= x*y \n",
    "    return c\n"
   ]
  },
  {
   "cell_type": "markdown",
   "id": "a6b71fa6",
   "metadata": {},
   "source": [
    "def mul(x : int[float , y : int]float):"
   ]
  },
  {
   "cell_type": "code",
   "execution_count": null,
   "id": "c2121c11",
   "metadata": {},
   "outputs": [],
   "source": [
    "mul(23,4)"
   ]
  },
  {
   "cell_type": "code",
   "execution_count": null,
   "id": "45f0823d",
   "metadata": {},
   "outputs": [],
   "source": [
    "mul(4.5 , 6)"
   ]
  },
  {
   "cell_type": "code",
   "execution_count": null,
   "id": "a27f48f6",
   "metadata": {},
   "outputs": [],
   "source": [
    "mul(2 ,'str')"
   ]
  },
  {
   "cell_type": "code",
   "execution_count": null,
   "id": "0cef2742",
   "metadata": {},
   "outputs": [
    {
     "ename": "IndentationError",
     "evalue": "expected an indented block after function definition on line 1 (2719661348.py, line 3)",
     "output_type": "error",
     "traceback": [
      "  \u001b[36mCell\u001b[39m\u001b[36m \u001b[39m\u001b[32mIn[55]\u001b[39m\u001b[32m, line 3\u001b[39m\n\u001b[31m    \u001b[39m\u001b[31massert isinstance(x ,(int float)), \"Insert Int or float for x\"\u001b[39m\n    ^\n\u001b[31mIndentationError\u001b[39m\u001b[31m:\u001b[39m expected an indented block after function definition on line 1\n"
     ]
    }
   ],
   "source": [
    "def mul(x : int|float , y:int|float):\n",
    "\"\"\"we want multipliction of numbers only\"\"\"\n",
    "assert isinstance(x ,(int float)), \"Insert Int or float for x\"\n",
    "assert isinstance(y, (int , float)), \"insert int or float for y\"\n",
    "z = x*y\n",
    "return z"
   ]
  },
  {
   "cell_type": "code",
   "execution_count": 16,
   "id": "c5286c21",
   "metadata": {},
   "outputs": [
    {
     "ename": "NameError",
     "evalue": "name 'mul' is not defined",
     "output_type": "error",
     "traceback": [
      "\u001b[31m---------------------------------------------------------------------------\u001b[39m",
      "\u001b[31mNameError\u001b[39m                                 Traceback (most recent call last)",
      "\u001b[36mCell\u001b[39m\u001b[36m \u001b[39m\u001b[32mIn[16]\u001b[39m\u001b[32m, line 1\u001b[39m\n\u001b[32m----> \u001b[39m\u001b[32m1\u001b[39m \u001b[43mmul\u001b[49m(\u001b[32m2\u001b[39m,\u001b[32m3\u001b[39m)\n",
      "\u001b[31mNameError\u001b[39m: name 'mul' is not defined"
     ]
    }
   ],
   "source": [
    "mul(2,3)"
   ]
  },
  {
   "cell_type": "code",
   "execution_count": 47,
   "id": "a87e7c16",
   "metadata": {},
   "outputs": [],
   "source": [
    "def mul(x : int|float , y:int|float):\n",
    "    if isinstance(x ,(int ,float)) and isinstance(y , (int , float)):\n",
    "        z  = x*y\n",
    "        return (z)\n",
    "    else:\n",
    "        print('Int or float value should be there')"
   ]
  },
  {
   "cell_type": "code",
   "execution_count": 48,
   "id": "c211050b",
   "metadata": {},
   "outputs": [
    {
     "data": {
      "text/plain": [
       "6"
      ]
     },
     "execution_count": 48,
     "metadata": {},
     "output_type": "execute_result"
    }
   ],
   "source": [
    "mul(2,3)"
   ]
  },
  {
   "cell_type": "code",
   "execution_count": 30,
   "id": "26529592",
   "metadata": {},
   "outputs": [
    {
     "name": "stdout",
     "output_type": "stream",
     "text": [
      "Int or float value should be there\n"
     ]
    }
   ],
   "source": [
    "mul('str' ,2)"
   ]
  },
  {
   "cell_type": "code",
   "execution_count": 35,
   "id": "f7133d1b",
   "metadata": {},
   "outputs": [
    {
     "name": "stdout",
     "output_type": "stream",
     "text": [
      "Help on built-in function max in module builtins:\n",
      "\n",
      "max(...)\n",
      "    max(iterable, *[, default=obj, key=func]) -> value\n",
      "    max(arg1, arg2, *args, *[, key=func]) -> value\n",
      "\n",
      "    With a single iterable argument, return its biggest item. The\n",
      "    default keyword-only argument specifies an object to return if\n",
      "    the provided iterable is empty.\n",
      "    With two or more arguments, return the largest argument.\n",
      "\n"
     ]
    }
   ],
   "source": [
    "help(max)"
   ]
  },
  {
   "cell_type": "code",
   "execution_count": 36,
   "id": "d9a13fa7",
   "metadata": {},
   "outputs": [
    {
     "name": "stdout",
     "output_type": "stream",
     "text": [
      "Help on built-in function print in module builtins:\n",
      "\n",
      "print(*args, sep=' ', end='\\n', file=None, flush=False)\n",
      "    Prints the values to a stream, or to sys.stdout by default.\n",
      "\n",
      "    sep\n",
      "      string inserted between values, default a space.\n",
      "    end\n",
      "      string appended after the last value, default a newline.\n",
      "    file\n",
      "      a file-like object (stream); defaults to the current sys.stdout.\n",
      "    flush\n",
      "      whether to forcibly flush the stream.\n",
      "\n"
     ]
    }
   ],
   "source": [
    "help(print)"
   ]
  },
  {
   "cell_type": "code",
   "execution_count": 37,
   "id": "eabb1f2e",
   "metadata": {},
   "outputs": [
    {
     "name": "stdout",
     "output_type": "stream",
     "text": [
      "Help on built-in function max in module builtins:\n",
      "\n",
      "max(...)\n",
      "    max(iterable, *[, default=obj, key=func]) -> value\n",
      "    max(arg1, arg2, *args, *[, key=func]) -> value\n",
      "\n",
      "    With a single iterable argument, return its biggest item. The\n",
      "    default keyword-only argument specifies an object to return if\n",
      "    the provided iterable is empty.\n",
      "    With two or more arguments, return the largest argument.\n",
      "\n"
     ]
    }
   ],
   "source": [
    "help(max)"
   ]
  },
  {
   "cell_type": "code",
   "execution_count": 41,
   "id": "14fedab2",
   "metadata": {},
   "outputs": [
    {
     "name": "stdout",
     "output_type": "stream",
     "text": [
      "Help on function mul in module __main__:\n",
      "\n",
      "mul(x: int | float, y: int | float)\n",
      "\n"
     ]
    }
   ],
   "source": [
    "help(mul)"
   ]
  },
  {
   "cell_type": "code",
   "execution_count": 50,
   "id": "ab4e835f",
   "metadata": {},
   "outputs": [],
   "source": [
    "mul.__doc__"
   ]
  },
  {
   "cell_type": "markdown",
   "id": "dcf89d3a",
   "metadata": {},
   "source": []
  },
  {
   "cell_type": "code",
   "execution_count": 51,
   "id": "0c8b70ed",
   "metadata": {},
   "outputs": [
    {
     "name": "stdout",
     "output_type": "stream",
     "text": [
      "Int or float value should be there\n"
     ]
    }
   ],
   "source": [
    "mul('str' ,2)"
   ]
  },
  {
   "cell_type": "code",
   "execution_count": null,
   "id": "62cef61b",
   "metadata": {},
   "outputs": [],
   "source": [
    "def add(x, y):\n",
    "    \"\"\"this functiion will give addition of two numbers\"\"\"\n",
    "    add \n"
   ]
  },
  {
   "cell_type": "code",
   "execution_count": null,
   "id": "dd7784ae",
   "metadata": {},
   "outputs": [],
   "source": [
    "add(111,111)"
   ]
  },
  {
   "cell_type": "code",
   "execution_count": null,
   "id": "c70f765f",
   "metadata": {},
   "outputs": [],
   "source": [
    "add(111,111,11)"
   ]
  },
  {
   "cell_type": "code",
   "execution_count": null,
   "id": "709245e2",
   "metadata": {},
   "outputs": [],
   "source": [
    "# variable lengtgh argument --->*args"
   ]
  },
  {
   "cell_type": "code",
   "execution_count": 52,
   "id": "62fc29fb",
   "metadata": {},
   "outputs": [],
   "source": [
    "def add(*args):\n",
    "    s = 0\n",
    "    for i in args:\n",
    "        s = s+i\n",
    "        return s"
   ]
  },
  {
   "cell_type": "code",
   "execution_count": 53,
   "id": "fa99a903",
   "metadata": {},
   "outputs": [
    {
     "data": {
      "text/plain": [
       "23"
      ]
     },
     "execution_count": 53,
     "metadata": {},
     "output_type": "execute_result"
    }
   ],
   "source": [
    "add(23,4,5,6,7,8,9)"
   ]
  },
  {
   "cell_type": "code",
   "execution_count": 66,
   "id": "61b18959",
   "metadata": {},
   "outputs": [],
   "source": [
    "def add(*args):\n",
    "    s = 0\n",
    "    for i in args:\n",
    "        s = s+i\n",
    "        print(s)\n",
    "       "
   ]
  },
  {
   "cell_type": "code",
   "execution_count": 67,
   "id": "874c3fb5",
   "metadata": {},
   "outputs": [
    {
     "name": "stdout",
     "output_type": "stream",
     "text": [
      "23\n",
      "27\n",
      "30\n"
     ]
    }
   ],
   "source": [
    "add(23,4,3)"
   ]
  },
  {
   "cell_type": "code",
   "execution_count": 74,
   "id": "18761545",
   "metadata": {},
   "outputs": [],
   "source": [
    "def add(*args):\n",
    "    s = 0\n",
    "    for i in args:\n",
    "        s = s+i\n",
    "        print(s)\n",
    "       "
   ]
  },
  {
   "cell_type": "code",
   "execution_count": 75,
   "id": "9cc1207f",
   "metadata": {},
   "outputs": [
    {
     "name": "stdout",
     "output_type": "stream",
     "text": [
      "23\n",
      "27\n",
      "30\n"
     ]
    }
   ],
   "source": [
    "add(23,4,3)"
   ]
  },
  {
   "cell_type": "code",
   "execution_count": 76,
   "id": "e81e0bd2",
   "metadata": {},
   "outputs": [],
   "source": [
    "def args(*a):\n",
    "    print(f\"arguments:{a}\")\n",
    "    print(f\"{a} : {type(a)}\")"
   ]
  },
  {
   "cell_type": "code",
   "execution_count": 77,
   "id": "aea60295",
   "metadata": {},
   "outputs": [
    {
     "name": "stdout",
     "output_type": "stream",
     "text": [
      "arguments:(23, 6, 56, 5, 6)\n",
      "(23, 6, 56, 5, 6) : <class 'tuple'>\n"
     ]
    }
   ],
   "source": [
    "args(23,6,56,5,6)"
   ]
  },
  {
   "cell_type": "code",
   "execution_count": 78,
   "id": "80727cbc",
   "metadata": {},
   "outputs": [],
   "source": [
    "l1 = [12,34,56,67]"
   ]
  },
  {
   "cell_type": "code",
   "execution_count": 80,
   "id": "20c71f46",
   "metadata": {},
   "outputs": [],
   "source": [
    "## unpacking list"
   ]
  },
  {
   "cell_type": "code",
   "execution_count": 91,
   "id": "1d6ca18b",
   "metadata": {},
   "outputs": [],
   "source": [
    "def amount(*args):\n",
    "    for product , price, quantity in args:\n",
    "        bill_before_tax = 0\n",
    "        total = 0\n",
    "        subtotal = price*quantity\n",
    "\n",
    "        bill_before_tax += subtotal\n",
    "\n",
    "        print('bill_beforeet_tax' , bill_before_tax)\n",
    "\n",
    "        tax = 0.18\n",
    "        tax_to_pay =0.18*bill_before_tax\n",
    "\n",
    "        print('tax_to_pay' , tax_to_pay)\n",
    "\n",
    "        total = total+bill_before_tax+tax_to_pay\n",
    "    print(total)"
   ]
  },
  {
   "cell_type": "code",
   "execution_count": 92,
   "id": "63c7de6b",
   "metadata": {},
   "outputs": [
    {
     "name": "stdout",
     "output_type": "stream",
     "text": [
      "bill_beforeet_tax 90000\n",
      "tax_to_pay 16200.0\n",
      "bill_beforeet_tax 20000\n",
      "tax_to_pay 3600.0\n",
      "23600.0\n"
     ]
    }
   ],
   "source": [
    "amount(('computer' ,45000,2), ('mobile',20000,1))"
   ]
  },
  {
   "cell_type": "code",
   "execution_count": 93,
   "id": "146a63eb",
   "metadata": {},
   "outputs": [],
   "source": [
    "def amount(*args):\n",
    "    for product , price, quantity in args:\n",
    "        print('name' , 'sakshi')\n",
    "        bill_before_tax = 0\n",
    "        total = 0\n",
    "        subtotal = price*quantity\n",
    "\n",
    "        bill_before_tax += subtotal\n",
    "\n",
    "        print('bill_beforeet_tax' , bill_before_tax)\n",
    "\n",
    "        tax = 0.18\n",
    "        tax_to_pay =0.18*bill_before_tax\n",
    "\n",
    "        print('tax_to_pay' , tax_to_pay)\n",
    "\n",
    "        total = total+bill_before_tax+tax_to_pay\n",
    "    print(total)"
   ]
  },
  {
   "cell_type": "code",
   "execution_count": 94,
   "id": "dc687028",
   "metadata": {},
   "outputs": [
    {
     "name": "stdout",
     "output_type": "stream",
     "text": [
      "name sakshi\n",
      "bill_beforeet_tax 90000\n",
      "tax_to_pay 16200.0\n",
      "name sakshi\n",
      "bill_beforeet_tax 20000\n",
      "tax_to_pay 3600.0\n",
      "23600.0\n"
     ]
    }
   ],
   "source": [
    "amount(('computer' ,45000,2), ('mobile',20000,1))"
   ]
  },
  {
   "cell_type": "code",
   "execution_count": 97,
   "id": "bdc44f24",
   "metadata": {},
   "outputs": [],
   "source": [
    "def amount(*args):\n",
    "    bill_before_tax = 0\n",
    "    total = 0\n",
    "    \n",
    "    for product , price, quantity in args:\n",
    "                \n",
    "        subtotal = price*quantity\n",
    "\n",
    "        bill_before_tax += subtotal\n",
    "\n",
    "        \n",
    "\n",
    "        \n",
    "        tax_to_pay =0.18*bill_before_tax\n",
    "\n",
    "       \n",
    "\n",
    "        total = total+bill_before_tax+tax_to_pay\n",
    "    return(total)"
   ]
  },
  {
   "cell_type": "code",
   "execution_count": 99,
   "id": "fcc10115",
   "metadata": {},
   "outputs": [
    {
     "data": {
      "text/plain": [
       "236000.0"
      ]
     },
     "execution_count": 99,
     "metadata": {},
     "output_type": "execute_result"
    }
   ],
   "source": [
    "amount(('computer' ,45000, 2), ('mobile',20000, 1))"
   ]
  },
  {
   "cell_type": "code",
   "execution_count": null,
   "id": "4dbe3d18",
   "metadata": {},
   "outputs": [],
   "source": []
  },
  {
   "cell_type": "code",
   "execution_count": null,
   "id": "fa9725ad",
   "metadata": {},
   "outputs": [],
   "source": []
  },
  {
   "cell_type": "code",
   "execution_count": null,
   "id": "46b27a8d",
   "metadata": {},
   "outputs": [],
   "source": []
  },
  {
   "cell_type": "code",
   "execution_count": null,
   "id": "143cf7b2",
   "metadata": {},
   "outputs": [],
   "source": []
  },
  {
   "cell_type": "code",
   "execution_count": null,
   "id": "ea05eb85",
   "metadata": {},
   "outputs": [],
   "source": []
  },
  {
   "cell_type": "code",
   "execution_count": null,
   "id": "e8928f5a",
   "metadata": {},
   "outputs": [],
   "source": []
  },
  {
   "cell_type": "code",
   "execution_count": null,
   "id": "73f78312",
   "metadata": {},
   "outputs": [],
   "source": []
  },
  {
   "cell_type": "code",
   "execution_count": null,
   "id": "d4bbebee",
   "metadata": {},
   "outputs": [],
   "source": []
  },
  {
   "cell_type": "code",
   "execution_count": null,
   "id": "9ba73c77",
   "metadata": {},
   "outputs": [],
   "source": []
  },
  {
   "cell_type": "code",
   "execution_count": null,
   "id": "d39d43fe",
   "metadata": {},
   "outputs": [],
   "source": []
  },
  {
   "cell_type": "code",
   "execution_count": null,
   "id": "d664a340",
   "metadata": {},
   "outputs": [],
   "source": []
  }
 ],
 "metadata": {
  "kernelspec": {
   "display_name": "venv",
   "language": "python",
   "name": "python3"
  },
  "language_info": {
   "codemirror_mode": {
    "name": "ipython",
    "version": 3
   },
   "file_extension": ".py",
   "mimetype": "text/x-python",
   "name": "python",
   "nbconvert_exporter": "python",
   "pygments_lexer": "ipython3",
   "version": "3.12.9"
  }
 },
 "nbformat": 4,
 "nbformat_minor": 5
}
