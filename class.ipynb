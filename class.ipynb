{
 "cells": [
  {
   "cell_type": "code",
   "execution_count": 1,
   "id": "a7e69c83",
   "metadata": {},
   "outputs": [
    {
     "data": {
      "text/plain": [
       "int"
      ]
     },
     "execution_count": 1,
     "metadata": {},
     "output_type": "execute_result"
    }
   ],
   "source": [
    "num = 87\n",
    "type(num)"
   ]
  },
  {
   "cell_type": "code",
   "execution_count": 2,
   "id": "7417e321",
   "metadata": {},
   "outputs": [
    {
     "name": "stdout",
     "output_type": "stream",
     "text": [
      "<class 'int'>\n"
     ]
    }
   ],
   "source": [
    "print(type(num))"
   ]
  },
  {
   "cell_type": "code",
   "execution_count": 3,
   "id": "bfef6de1",
   "metadata": {},
   "outputs": [
    {
     "name": "stdout",
     "output_type": "stream",
     "text": [
      "<class 'float'>\n"
     ]
    }
   ],
   "source": [
    "num2 = 56.89\n",
    "print(type(num2))"
   ]
  },
  {
   "cell_type": "code",
   "execution_count": 33,
   "id": "6e3eef8c",
   "metadata": {},
   "outputs": [
    {
     "name": "stdout",
     "output_type": "stream",
     "text": [
      "<class 'str'>\n"
     ]
    }
   ],
   "source": [
    "institute = 'ETLHIVE'\n",
    "print(type(institute))"
   ]
  },
  {
   "cell_type": "code",
   "execution_count": 4,
   "id": "7757df41",
   "metadata": {},
   "outputs": [
    {
     "name": "stdout",
     "output_type": "stream",
     "text": [
      "<class 'bool'>\n"
     ]
    }
   ],
   "source": [
    "boolt1 = True\n",
    "print(type(boolt1))"
   ]
  },
  {
   "cell_type": "code",
   "execution_count": 5,
   "id": "d0e9b316",
   "metadata": {},
   "outputs": [],
   "source": [
    "d = {'name' : ['Seeta','geeta','neeta','sunita'],'occupation':['Prof','counselour','Admin','data analyst'],\n",
    "     'salary':[40000,25000,20000,35000]}"
   ]
  },
  {
   "cell_type": "code",
   "execution_count": 6,
   "id": "49f31f6e",
   "metadata": {},
   "outputs": [
    {
     "name": "stdout",
     "output_type": "stream",
     "text": [
      "<class 'dict'>\n"
     ]
    }
   ],
   "source": [
    "print(type(d))"
   ]
  },
  {
   "cell_type": "code",
   "execution_count": 11,
   "id": "a6587178",
   "metadata": {},
   "outputs": [],
   "source": [
    "import pandas as  pd"
   ]
  },
  {
   "cell_type": "code",
   "execution_count": 12,
   "id": "493f65c9",
   "metadata": {},
   "outputs": [],
   "source": [
    "df = pd.DataFrame(d)"
   ]
  },
  {
   "cell_type": "code",
   "execution_count": 24,
   "id": "53204711",
   "metadata": {},
   "outputs": [
    {
     "data": {
      "text/html": [
       "<div>\n",
       "<style scoped>\n",
       "    .dataframe tbody tr th:only-of-type {\n",
       "        vertical-align: middle;\n",
       "    }\n",
       "\n",
       "    .dataframe tbody tr th {\n",
       "        vertical-align: top;\n",
       "    }\n",
       "\n",
       "    .dataframe thead th {\n",
       "        text-align: right;\n",
       "    }\n",
       "</style>\n",
       "<table border=\"1\" class=\"dataframe\">\n",
       "  <thead>\n",
       "    <tr style=\"text-align: right;\">\n",
       "      <th></th>\n",
       "      <th>name</th>\n",
       "      <th>occupation</th>\n",
       "      <th>salary</th>\n",
       "    </tr>\n",
       "  </thead>\n",
       "  <tbody>\n",
       "    <tr>\n",
       "      <th>0</th>\n",
       "      <td>Seeta</td>\n",
       "      <td>Prof</td>\n",
       "      <td>40000</td>\n",
       "    </tr>\n",
       "    <tr>\n",
       "      <th>1</th>\n",
       "      <td>geeta</td>\n",
       "      <td>counselour</td>\n",
       "      <td>25000</td>\n",
       "    </tr>\n",
       "    <tr>\n",
       "      <th>2</th>\n",
       "      <td>neeta</td>\n",
       "      <td>Admin</td>\n",
       "      <td>20000</td>\n",
       "    </tr>\n",
       "    <tr>\n",
       "      <th>3</th>\n",
       "      <td>sunita</td>\n",
       "      <td>data analyst</td>\n",
       "      <td>35000</td>\n",
       "    </tr>\n",
       "  </tbody>\n",
       "</table>\n",
       "</div>"
      ],
      "text/plain": [
       "     name    occupation  salary\n",
       "0   Seeta          Prof   40000\n",
       "1   geeta    counselour   25000\n",
       "2   neeta         Admin   20000\n",
       "3  sunita  data analyst   35000"
      ]
     },
     "execution_count": 24,
     "metadata": {},
     "output_type": "execute_result"
    }
   ],
   "source": [
    "df"
   ]
  },
  {
   "cell_type": "code",
   "execution_count": 25,
   "id": "a6454a9d",
   "metadata": {},
   "outputs": [
    {
     "name": "stdout",
     "output_type": "stream",
     "text": [
      "<class 'pandas.core.frame.DataFrame'>\n"
     ]
    }
   ],
   "source": [
    "print(type(df))"
   ]
  },
  {
   "cell_type": "code",
   "execution_count": 26,
   "id": "7a70d5df",
   "metadata": {},
   "outputs": [
    {
     "name": "stdout",
     "output_type": "stream",
     "text": [
      "<class 'pandas.core.series.Series'>\n"
     ]
    }
   ],
   "source": [
    "print(type(df.name))"
   ]
  },
  {
   "cell_type": "code",
   "execution_count": null,
   "id": "1cdb7ed7",
   "metadata": {},
   "outputs": [],
   "source": []
  },
  {
   "cell_type": "code",
   "execution_count": 35,
   "id": "9f29dfc9",
   "metadata": {},
   "outputs": [
    {
     "ename": "NameError",
     "evalue": "name 'shape' is not defined",
     "output_type": "error",
     "traceback": [
      "\u001b[31m---------------------------------------------------------------------------\u001b[39m",
      "\u001b[31mNameError\u001b[39m                                 Traceback (most recent call last)",
      "\u001b[36mCell\u001b[39m\u001b[36m \u001b[39m\u001b[32mIn[35]\u001b[39m\u001b[32m, line 2\u001b[39m\n\u001b[32m      1\u001b[39m \u001b[38;5;66;03m### attributes\u001b[39;00m\n\u001b[32m----> \u001b[39m\u001b[32m2\u001b[39m -\u001b[43mshape\u001b[49m\n\u001b[32m      3\u001b[39m -columns\n\u001b[32m      4\u001b[39m -Index\n",
      "\u001b[31mNameError\u001b[39m: name 'shape' is not defined"
     ]
    }
   ],
   "source": [
    "### attributes\n",
    "-shape\n",
    "-columns\n",
    "-Index\n",
    "-values"
   ]
  },
  {
   "cell_type": "code",
   "execution_count": 13,
   "id": "e5331e34",
   "metadata": {},
   "outputs": [
    {
     "data": {
      "text/plain": [
       "(4, 3)"
      ]
     },
     "execution_count": 13,
     "metadata": {},
     "output_type": "execute_result"
    }
   ],
   "source": [
    "df.shape"
   ]
  },
  {
   "cell_type": "code",
   "execution_count": 14,
   "id": "2158ae38",
   "metadata": {},
   "outputs": [
    {
     "data": {
      "text/plain": [
       "Index(['name', 'occupation', 'salary'], dtype='object')"
      ]
     },
     "execution_count": 14,
     "metadata": {},
     "output_type": "execute_result"
    }
   ],
   "source": [
    "df.columns"
   ]
  },
  {
   "cell_type": "code",
   "execution_count": 15,
   "id": "588bc9c6",
   "metadata": {},
   "outputs": [
    {
     "data": {
      "text/plain": [
       "RangeIndex(start=0, stop=4, step=1)"
      ]
     },
     "execution_count": 15,
     "metadata": {},
     "output_type": "execute_result"
    }
   ],
   "source": [
    "df.index"
   ]
  },
  {
   "cell_type": "code",
   "execution_count": 20,
   "id": "0434ede4",
   "metadata": {},
   "outputs": [
    {
     "data": {
      "text/plain": [
       "[0, 1, 2, 3]"
      ]
     },
     "execution_count": 20,
     "metadata": {},
     "output_type": "execute_result"
    }
   ],
   "source": [
    "list(df.index)"
   ]
  },
  {
   "cell_type": "code",
   "execution_count": 23,
   "id": "bfb1d320",
   "metadata": {},
   "outputs": [
    {
     "data": {
      "text/plain": [
       "12"
      ]
     },
     "execution_count": 23,
     "metadata": {},
     "output_type": "execute_result"
    }
   ],
   "source": [
    "df.size"
   ]
  },
  {
   "cell_type": "code",
   "execution_count": 22,
   "id": "9c40d46c",
   "metadata": {},
   "outputs": [
    {
     "data": {
      "text/plain": [
       "array([['Seeta', 'Prof', 40000],\n",
       "       ['geeta', 'counselour', 25000],\n",
       "       ['neeta', 'Admin', 20000],\n",
       "       ['sunita', 'data analyst', 35000]], dtype=object)"
      ]
     },
     "execution_count": 22,
     "metadata": {},
     "output_type": "execute_result"
    }
   ],
   "source": [
    "df.values"
   ]
  },
  {
   "cell_type": "code",
   "execution_count": 27,
   "id": "bed389d1",
   "metadata": {},
   "outputs": [
    {
     "data": {
      "text/plain": [
       "name          object\n",
       "occupation    object\n",
       "salary         int64\n",
       "dtype: object"
      ]
     },
     "execution_count": 27,
     "metadata": {},
     "output_type": "execute_result"
    }
   ],
   "source": [
    "df.dtypes"
   ]
  },
  {
   "cell_type": "code",
   "execution_count": null,
   "id": "2588693c",
   "metadata": {},
   "outputs": [],
   "source": [
    "#function of data\n",
    "#info()\n",
    "#isnull()\n",
    "#sum()\n",
    "#droupby\n",
    "#sort1_values()\n"
   ]
  },
  {
   "cell_type": "code",
   "execution_count": 28,
   "id": "14ce68c3",
   "metadata": {},
   "outputs": [
    {
     "name": "stdout",
     "output_type": "stream",
     "text": [
      "<class 'pandas.core.frame.DataFrame'>\n",
      "RangeIndex: 4 entries, 0 to 3\n",
      "Data columns (total 3 columns):\n",
      " #   Column      Non-Null Count  Dtype \n",
      "---  ------      --------------  ----- \n",
      " 0   name        4 non-null      object\n",
      " 1   occupation  4 non-null      object\n",
      " 2   salary      4 non-null      int64 \n",
      "dtypes: int64(1), object(2)\n",
      "memory usage: 228.0+ bytes\n"
     ]
    }
   ],
   "source": [
    "df.info()"
   ]
  },
  {
   "cell_type": "code",
   "execution_count": 30,
   "id": "956f5cb1",
   "metadata": {},
   "outputs": [
    {
     "data": {
      "text/plain": [
       "name\n",
       "Seeta     40000.0\n",
       "geeta     25000.0\n",
       "neeta     20000.0\n",
       "sunita    35000.0\n",
       "Name: salary, dtype: float64"
      ]
     },
     "execution_count": 30,
     "metadata": {},
     "output_type": "execute_result"
    }
   ],
   "source": [
    "df.groupby('name').salary.mean()"
   ]
  },
  {
   "cell_type": "code",
   "execution_count": 31,
   "id": "9cc44be4",
   "metadata": {},
   "outputs": [
    {
     "data": {
      "text/plain": [
       "np.int64(120000)"
      ]
     },
     "execution_count": 31,
     "metadata": {},
     "output_type": "execute_result"
    }
   ],
   "source": [
    "df.salary.sum()"
   ]
  },
  {
   "cell_type": "code",
   "execution_count": 32,
   "id": "dbae1f11",
   "metadata": {},
   "outputs": [
    {
     "name": "stdout",
     "output_type": "stream",
     "text": [
      "120000\n"
     ]
    }
   ],
   "source": [
    "print(df.salary.sum())"
   ]
  },
  {
   "cell_type": "code",
   "execution_count": 39,
   "id": "549a8464",
   "metadata": {},
   "outputs": [],
   "source": [
    "class Person : \n",
    "    def __init__(self, name , age, gender, occupation):\n",
    "        self.name = name\n",
    "        self.age = age\n",
    "        self.gender = gender \n",
    "        self.occupation = occupation\n",
    "\n",
    "    def talk(self):\n",
    "        print(f' Hi there my i am {self.name}')\n",
    "        print(f'my age is{self.age}')\n",
    "        print(f'gender is {self.gender}')\n",
    "        print(f'my occupation is{self.occupation}')\n",
    "        "
   ]
  },
  {
   "cell_type": "code",
   "execution_count": 40,
   "id": "c0fa1ad7",
   "metadata": {},
   "outputs": [],
   "source": [
    "p1 = Person(name = 'Aditi' , age = 23, gender = 'female' , occupation= 'Data Engineer')   "
   ]
  },
  {
   "cell_type": "code",
   "execution_count": 41,
   "id": "70f2e676",
   "metadata": {},
   "outputs": [
    {
     "data": {
      "text/plain": [
       "<__main__.Person at 0x1e4d2012d20>"
      ]
     },
     "execution_count": 41,
     "metadata": {},
     "output_type": "execute_result"
    }
   ],
   "source": [
    "p1"
   ]
  },
  {
   "cell_type": "code",
   "execution_count": 42,
   "id": "d534b6ae",
   "metadata": {},
   "outputs": [
    {
     "data": {
      "text/plain": [
       "'Aditi'"
      ]
     },
     "execution_count": 42,
     "metadata": {},
     "output_type": "execute_result"
    }
   ],
   "source": [
    "p1.name"
   ]
  },
  {
   "cell_type": "code",
   "execution_count": 43,
   "id": "2d8d6aa1",
   "metadata": {},
   "outputs": [
    {
     "data": {
      "text/plain": [
       "'female'"
      ]
     },
     "execution_count": 43,
     "metadata": {},
     "output_type": "execute_result"
    }
   ],
   "source": [
    "p1.gender"
   ]
  },
  {
   "cell_type": "code",
   "execution_count": 44,
   "id": "93636125",
   "metadata": {},
   "outputs": [
    {
     "data": {
      "text/plain": [
       "'Data Engineer'"
      ]
     },
     "execution_count": 44,
     "metadata": {},
     "output_type": "execute_result"
    }
   ],
   "source": [
    "p1.occupation"
   ]
  },
  {
   "cell_type": "code",
   "execution_count": 45,
   "id": "139035b7",
   "metadata": {},
   "outputs": [],
   "source": [
    "p1.location = 'Pune'"
   ]
  },
  {
   "cell_type": "code",
   "execution_count": 46,
   "id": "e039a6e5",
   "metadata": {},
   "outputs": [
    {
     "data": {
      "text/plain": [
       "'Pune'"
      ]
     },
     "execution_count": 46,
     "metadata": {},
     "output_type": "execute_result"
    }
   ],
   "source": [
    "p1.location "
   ]
  },
  {
   "cell_type": "code",
   "execution_count": 47,
   "id": "21693417",
   "metadata": {},
   "outputs": [
    {
     "name": "stdout",
     "output_type": "stream",
     "text": [
      " Hi there my i am Aditi\n",
      "my age is23\n",
      "gender is female\n",
      "my occupation isData Engineer\n"
     ]
    }
   ],
   "source": [
    "p1.talk()"
   ]
  },
  {
   "cell_type": "code",
   "execution_count": 48,
   "id": "fdfda518",
   "metadata": {},
   "outputs": [],
   "source": [
    "p1.occupation = 'ML engineer'"
   ]
  },
  {
   "cell_type": "code",
   "execution_count": 49,
   "id": "70fab8b3",
   "metadata": {},
   "outputs": [
    {
     "data": {
      "text/plain": [
       "'ML engineer'"
      ]
     },
     "execution_count": 49,
     "metadata": {},
     "output_type": "execute_result"
    }
   ],
   "source": [
    "p1.occupation"
   ]
  },
  {
   "cell_type": "code",
   "execution_count": 50,
   "id": "d298e572",
   "metadata": {},
   "outputs": [
    {
     "name": "stdout",
     "output_type": "stream",
     "text": [
      " Hi there my i am Aditi\n",
      "my age is23\n",
      "gender is female\n",
      "my occupation isML engineer\n"
     ]
    }
   ],
   "source": [
    "p1.talk()"
   ]
  },
  {
   "cell_type": "code",
   "execution_count": 51,
   "id": "ea9fedaf",
   "metadata": {},
   "outputs": [],
   "source": [
    "p2 = Person(\"Swara\" , 24 , 'Female' , 'Ai Engineer')"
   ]
  },
  {
   "cell_type": "code",
   "execution_count": 52,
   "id": "90772c78",
   "metadata": {},
   "outputs": [
    {
     "data": {
      "text/plain": [
       "<__main__.Person at 0x1e4d242ac60>"
      ]
     },
     "execution_count": 52,
     "metadata": {},
     "output_type": "execute_result"
    }
   ],
   "source": [
    "p2"
   ]
  },
  {
   "cell_type": "code",
   "execution_count": 53,
   "id": "33a63b64",
   "metadata": {},
   "outputs": [
    {
     "data": {
      "text/plain": [
       "'Swara'"
      ]
     },
     "execution_count": 53,
     "metadata": {},
     "output_type": "execute_result"
    }
   ],
   "source": [
    "p2.name"
   ]
  },
  {
   "cell_type": "code",
   "execution_count": 54,
   "id": "9330f2ec",
   "metadata": {},
   "outputs": [
    {
     "data": {
      "text/plain": [
       "24"
      ]
     },
     "execution_count": 54,
     "metadata": {},
     "output_type": "execute_result"
    }
   ],
   "source": [
    "p2.age"
   ]
  },
  {
   "cell_type": "code",
   "execution_count": 56,
   "id": "fa18444d",
   "metadata": {},
   "outputs": [
    {
     "data": {
      "text/plain": [
       "'Ai Engineer'"
      ]
     },
     "execution_count": 56,
     "metadata": {},
     "output_type": "execute_result"
    }
   ],
   "source": [
    "p2.occupation"
   ]
  },
  {
   "cell_type": "code",
   "execution_count": 57,
   "id": "a5ef9739",
   "metadata": {},
   "outputs": [
    {
     "name": "stdout",
     "output_type": "stream",
     "text": [
      " Hi there my i am Swara\n",
      "my age is24\n",
      "gender is Female\n",
      "my occupation isAi Engineer\n"
     ]
    }
   ],
   "source": [
    "p2.talk()"
   ]
  },
  {
   "cell_type": "code",
   "execution_count": 59,
   "id": "97cb5c96",
   "metadata": {},
   "outputs": [],
   "source": [
    "p3 = Person(name ='umesh',age= 29, gender = 'male', occupation = 'Buisness')"
   ]
  },
  {
   "cell_type": "code",
   "execution_count": 60,
   "id": "ca7eac92",
   "metadata": {},
   "outputs": [
    {
     "data": {
      "text/plain": [
       "'umesh'"
      ]
     },
     "execution_count": 60,
     "metadata": {},
     "output_type": "execute_result"
    }
   ],
   "source": [
    "p3.name"
   ]
  },
  {
   "cell_type": "code",
   "execution_count": 75,
   "id": "e8438ea7",
   "metadata": {},
   "outputs": [],
   "source": [
    "from dataclasses import dataclass"
   ]
  },
  {
   "cell_type": "code",
   "execution_count": 76,
   "id": "1a04ccae",
   "metadata": {},
   "outputs": [
    {
     "ename": "NameError",
     "evalue": "name 'Literal' is not defined",
     "output_type": "error",
     "traceback": [
      "\u001b[31m---------------------------------------------------------------------------\u001b[39m",
      "\u001b[31mNameError\u001b[39m                                 Traceback (most recent call last)",
      "\u001b[36mCell\u001b[39m\u001b[36m \u001b[39m\u001b[32mIn[76]\u001b[39m\u001b[32m, line 2\u001b[39m\n\u001b[32m      1\u001b[39m \u001b[38;5;129;43m@dataclass\u001b[39;49m\n\u001b[32m----> \u001b[39m\u001b[32m2\u001b[39m \u001b[38;5;28;43;01mclass\u001b[39;49;00m\u001b[38;5;250;43m \u001b[39;49m\u001b[34;43;01mStudent\u001b[39;49;00m\u001b[43m:\u001b[49m\n\u001b[32m      3\u001b[39m \u001b[43m    \u001b[49m\u001b[43mname\u001b[49m\u001b[43m \u001b[49m\u001b[43m:\u001b[49m\u001b[38;5;28;43mstr\u001b[39;49m\n\u001b[32m      4\u001b[39m \u001b[43m    \u001b[49m\u001b[43mage\u001b[49m\u001b[43m \u001b[49m\u001b[43m:\u001b[49m\u001b[43m \u001b[49m\u001b[38;5;28;43mint\u001b[39;49m\n",
      "\u001b[36mCell\u001b[39m\u001b[36m \u001b[39m\u001b[32mIn[76]\u001b[39m\u001b[32m, line 6\u001b[39m, in \u001b[36mStudent\u001b[39m\u001b[34m()\u001b[39m\n\u001b[32m      4\u001b[39m age : \u001b[38;5;28mint\u001b[39m\n\u001b[32m      5\u001b[39m marks:\u001b[38;5;28mfloat\u001b[39m | \u001b[38;5;28mint\u001b[39m\n\u001b[32m----> \u001b[39m\u001b[32m6\u001b[39m gender: \u001b[43mLiteral\u001b[49m [\u001b[33m'\u001b[39m\u001b[33mMale\u001b[39m\u001b[33m'\u001b[39m, \u001b[33m'\u001b[39m\u001b[33mFemale\u001b[39m\u001b[33m'\u001b[39m]\n\u001b[32m      7\u001b[39m hobbies : \u001b[38;5;28mlist\u001b[39m[\u001b[38;5;28mstr\u001b[39m]\n\u001b[32m      9\u001b[39m \u001b[38;5;28;01mdef\u001b[39;00m\u001b[38;5;250m \u001b[39m\u001b[34mget_info\u001b[39m(\u001b[38;5;28mself\u001b[39m):\n",
      "\u001b[31mNameError\u001b[39m: name 'Literal' is not defined"
     ]
    }
   ],
   "source": [
    "@dataclass\n",
    "class Student:\n",
    "    name :str\n",
    "    age : int\n",
    "    marks:float | int\n",
    "    gender: Literal ['Male', 'Female']\n",
    "    hobbies : list[str]\n",
    "\n",
    "    def get_info(self):\n",
    "         print(f'My name is {self.name}')\n",
    "         print(f'My age is {self.age}')\n",
    "         print(f'mark is {self.marks}')\n",
    "         print(f' i am {self.gender}')\n",
    "         print(f'My hobbies are {self.hobbies}')"
   ]
  },
  {
   "cell_type": "code",
   "execution_count": null,
   "id": "bb09e1ec",
   "metadata": {},
   "outputs": [],
   "source": [
    "s1 = Student(name = 'Sujit' , marks = 78, gender = 'Female', age =17, hobbies = ['Swimming'])"
   ]
  },
  {
   "cell_type": "code",
   "execution_count": null,
   "id": "cae91a8b",
   "metadata": {},
   "outputs": [],
   "source": [
    "s1"
   ]
  },
  {
   "cell_type": "code",
   "execution_count": null,
   "id": "76b495c5",
   "metadata": {},
   "outputs": [],
   "source": [
    "s1.name"
   ]
  },
  {
   "cell_type": "code",
   "execution_count": null,
   "id": "3c582fa8",
   "metadata": {},
   "outputs": [],
   "source": [
    "s1.age"
   ]
  },
  {
   "cell_type": "code",
   "execution_count": null,
   "id": "f5a4bfe2",
   "metadata": {},
   "outputs": [],
   "source": [
    "s1.ages1.marks"
   ]
  },
  {
   "cell_type": "code",
   "execution_count": null,
   "id": "587a3c27",
   "metadata": {},
   "outputs": [],
   "source": [
    "s1.get_info()"
   ]
  },
  {
   "cell_type": "code",
   "execution_count": null,
   "id": "087d7ca2",
   "metadata": {},
   "outputs": [],
   "source": [
    "s2 = student('Swaraj, 7 , 89 , 'male' , ['playing'])"
   ]
  },
  {
   "cell_type": "code",
   "execution_count": null,
   "id": "30454c62",
   "metadata": {},
   "outputs": [],
   "source": [
    "s2"
   ]
  },
  {
   "cell_type": "code",
   "execution_count": null,
   "id": "8a63cdd1",
   "metadata": {},
   "outputs": [],
   "source": [
    "s2.gender"
   ]
  },
  {
   "cell_type": "code",
   "execution_count": null,
   "id": "5dacf0b6",
   "metadata": {},
   "outputs": [],
   "source": [
    "s2.name"
   ]
  },
  {
   "cell_type": "code",
   "execution_count": null,
   "id": "3c563a7b",
   "metadata": {},
   "outputs": [],
   "source": [
    "s2.gender"
   ]
  },
  {
   "cell_type": "code",
   "execution_count": null,
   "id": "98679afd",
   "metadata": {},
   "outputs": [],
   "source": [
    "s2"
   ]
  },
  {
   "cell_type": "code",
   "execution_count": null,
   "id": "e8c3646c",
   "metadata": {},
   "outputs": [],
   "source": [
    "###create class for bank account functionality"
   ]
  },
  {
   "cell_type": "code",
   "execution_count": 4,
   "id": "d03fe7d7",
   "metadata": {},
   "outputs": [
    {
     "ename": "NameError",
     "evalue": "name 'dataclass' is not defined",
     "output_type": "error",
     "traceback": [
      "\u001b[31m---------------------------------------------------------------------------\u001b[39m",
      "\u001b[31mNameError\u001b[39m                                 Traceback (most recent call last)",
      "\u001b[36mCell\u001b[39m\u001b[36m \u001b[39m\u001b[32mIn[4]\u001b[39m\u001b[32m, line 1\u001b[39m\n\u001b[32m----> \u001b[39m\u001b[32m1\u001b[39m \u001b[38;5;129m@dataclass\u001b[39m\n\u001b[32m      2\u001b[39m \n\u001b[32m      3\u001b[39m \u001b[38;5;28;01mclass\u001b[39;00m\u001b[38;5;250m \u001b[39m\u001b[34;01mAccount\u001b[39;00m:\n\u001b[32m      4\u001b[39m     ac_no = \u001b[38;5;28mint\u001b[39m\n\u001b[32m      5\u001b[39m     ac_name : \u001b[38;5;28mstr\u001b[39m\n",
      "\u001b[31mNameError\u001b[39m: name 'dataclass' is not defined"
     ]
    }
   ],
   "source": [
    "@dataclass\n",
    "\n",
    "class Account:\n",
    "    ac_no = int\n",
    "    ac_name : str\n",
    "    bal : int|float\n",
    "\n",
    "    def check_balance(self):\n",
    "        print(f'Current Account balance is {self.bal}')\n",
    "\n",
    "    def deposit(self , amt : int):\n",
    "        print(f'Amount of {amt} is deposited in account {self.ac_no}')\n",
    "        self.bal = self.bal+amt\n",
    "        self.check_balance()\n",
    "\n",
    "    def withdraw(self , amt :int|float):\n",
    "        if self.bal< amt:\n",
    "             raise ValueError('Insufficiant balance')\n",
    "        else:\n",
    "            self.bal = self.bal-amt \n",
    "            print(f'Amount of {amt} withdrawed from{self.ac_no}')\n",
    "            self.check_balance()\n",
    "\n",
    "    def transfer(self , amt : int| float , ac = ' Account'):\n",
    "        self.withdraw(amt)\n",
    "        ac.deposit(amt)"
   ]
  },
  {
   "cell_type": "code",
   "execution_count": 97,
   "id": "a0b6c78f",
   "metadata": {},
   "outputs": [
    {
     "data": {
      "text/plain": [
       "Account(ac_name=1234, bal='Priya')"
      ]
     },
     "execution_count": 97,
     "metadata": {},
     "output_type": "execute_result"
    }
   ],
   "source": [
    "a1"
   ]
  },
  {
   "cell_type": "code",
   "execution_count": 93,
   "id": "c37e9b6a",
   "metadata": {},
   "outputs": [
    {
     "ename": "TypeError",
     "evalue": "Account.__init__() takes 3 positional arguments but 4 were given",
     "output_type": "error",
     "traceback": [
      "\u001b[31m---------------------------------------------------------------------------\u001b[39m",
      "\u001b[31mTypeError\u001b[39m                                 Traceback (most recent call last)",
      "\u001b[36mCell\u001b[39m\u001b[36m \u001b[39m\u001b[32mIn[93]\u001b[39m\u001b[32m, line 1\u001b[39m\n\u001b[32m----> \u001b[39m\u001b[32m1\u001b[39m a1 = \u001b[43mAccount\u001b[49m\u001b[43m(\u001b[49m\u001b[32;43m1234\u001b[39;49m\u001b[43m,\u001b[49m\u001b[43m \u001b[49m\u001b[33;43m'\u001b[39;49m\u001b[33;43mPriya\u001b[39;49m\u001b[33;43m'\u001b[39;49m\u001b[43m,\u001b[49m\u001b[43m \u001b[49m\u001b[32;43m2000\u001b[39;49m\u001b[43m)\u001b[49m\n",
      "\u001b[31mTypeError\u001b[39m: Account.__init__() takes 3 positional arguments but 4 were given"
     ]
    }
   ],
   "source": [
    "a1 = Account(1234, 'Priya', 2000)"
   ]
  },
  {
   "cell_type": "code",
   "execution_count": 87,
   "id": "8780693d",
   "metadata": {},
   "outputs": [
    {
     "data": {
      "text/plain": [
       "Account(ac_name=1234, bal='Priya')"
      ]
     },
     "execution_count": 87,
     "metadata": {},
     "output_type": "execute_result"
    }
   ],
   "source": [
    "a1"
   ]
  },
  {
   "cell_type": "code",
   "execution_count": 94,
   "id": "44e62c84",
   "metadata": {},
   "outputs": [
    {
     "name": "stdout",
     "output_type": "stream",
     "text": [
      "Amount of 2000is deposited in account <class 'int'>\n"
     ]
    },
    {
     "ename": "TypeError",
     "evalue": "can only concatenate str (not \"int\") to str",
     "output_type": "error",
     "traceback": [
      "\u001b[31m---------------------------------------------------------------------------\u001b[39m",
      "\u001b[31mTypeError\u001b[39m                                 Traceback (most recent call last)",
      "\u001b[36mCell\u001b[39m\u001b[36m \u001b[39m\u001b[32mIn[94]\u001b[39m\u001b[32m, line 1\u001b[39m\n\u001b[32m----> \u001b[39m\u001b[32m1\u001b[39m \u001b[43ma1\u001b[49m\u001b[43m.\u001b[49m\u001b[43mdeposit\u001b[49m\u001b[43m(\u001b[49m\u001b[32;43m2000\u001b[39;49m\u001b[43m)\u001b[49m\n",
      "\u001b[36mCell\u001b[39m\u001b[36m \u001b[39m\u001b[32mIn[84]\u001b[39m\u001b[32m, line 12\u001b[39m, in \u001b[36mAccount.deposit\u001b[39m\u001b[34m(self, amt)\u001b[39m\n\u001b[32m     10\u001b[39m \u001b[38;5;28;01mdef\u001b[39;00m\u001b[38;5;250m \u001b[39m\u001b[34mdeposit\u001b[39m(\u001b[38;5;28mself\u001b[39m , amt : \u001b[38;5;28mint\u001b[39m):\n\u001b[32m     11\u001b[39m     \u001b[38;5;28mprint\u001b[39m(\u001b[33mf\u001b[39m\u001b[33m'\u001b[39m\u001b[33mAmount of \u001b[39m\u001b[38;5;132;01m{\u001b[39;00mamt\u001b[38;5;132;01m}\u001b[39;00m\u001b[33mis deposited in account \u001b[39m\u001b[38;5;132;01m{\u001b[39;00m\u001b[38;5;28mself\u001b[39m.ac_no\u001b[38;5;132;01m}\u001b[39;00m\u001b[33m'\u001b[39m)\n\u001b[32m---> \u001b[39m\u001b[32m12\u001b[39m     \u001b[38;5;28mself\u001b[39m.bal = \u001b[38;5;28;43mself\u001b[39;49m\u001b[43m.\u001b[49m\u001b[43mbal\u001b[49m\u001b[43m+\u001b[49m\u001b[43mamt\u001b[49m\n\u001b[32m     13\u001b[39m     \u001b[38;5;28mself\u001b[39m.check_balance()\n",
      "\u001b[31mTypeError\u001b[39m: can only concatenate str (not \"int\") to str"
     ]
    }
   ],
   "source": [
    "a1.deposit(2000)"
   ]
  },
  {
   "cell_type": "code",
   "execution_count": null,
   "id": "e1a04f29",
   "metadata": {},
   "outputs": [],
   "source": [
    "a1.check_balance()"
   ]
  },
  {
   "cell_type": "code",
   "execution_count": null,
   "id": "156b0eb4",
   "metadata": {},
   "outputs": [],
   "source": [
    "a1.withdraw(5000)"
   ]
  },
  {
   "cell_type": "code",
   "execution_count": 96,
   "id": "fee3f8c8",
   "metadata": {},
   "outputs": [
    {
     "ename": "TypeError",
     "evalue": "Account.__init__() got multiple values for argument 'ac_name'",
     "output_type": "error",
     "traceback": [
      "\u001b[31m---------------------------------------------------------------------------\u001b[39m",
      "\u001b[31mTypeError\u001b[39m                                 Traceback (most recent call last)",
      "\u001b[36mCell\u001b[39m\u001b[36m \u001b[39m\u001b[32mIn[96]\u001b[39m\u001b[32m, line 1\u001b[39m\n\u001b[32m----> \u001b[39m\u001b[32m1\u001b[39m a2 = \u001b[43mAccount\u001b[49m\u001b[43m(\u001b[49m\u001b[32;43m5678\u001b[39;49m\u001b[43m \u001b[49m\u001b[43m,\u001b[49m\u001b[43m \u001b[49m\u001b[43mac_name\u001b[49m\u001b[43m \u001b[49m\u001b[43m=\u001b[49m\u001b[43m \u001b[49m\u001b[33;43m'\u001b[39;49m\u001b[33;43mSuresh\u001b[39;49m\u001b[33;43m'\u001b[39;49m\u001b[43m \u001b[49m\u001b[43m,\u001b[49m\u001b[43m \u001b[49m\u001b[43mbal\u001b[49m\u001b[43m \u001b[49m\u001b[43m=\u001b[49m\u001b[43m \u001b[49m\u001b[32;43m200\u001b[39;49m\u001b[43m)\u001b[49m\n",
      "\u001b[31mTypeError\u001b[39m: Account.__init__() got multiple values for argument 'ac_name'"
     ]
    }
   ],
   "source": [
    "a2 = Account(5678 , ac_name = 'Suresh' , bal = 200)"
   ]
  },
  {
   "cell_type": "code",
   "execution_count": 95,
   "id": "a0f51262",
   "metadata": {},
   "outputs": [
    {
     "ename": "AttributeError",
     "evalue": "'Account' object has no attribute 'tranfer'",
     "output_type": "error",
     "traceback": [
      "\u001b[31m---------------------------------------------------------------------------\u001b[39m",
      "\u001b[31mAttributeError\u001b[39m                            Traceback (most recent call last)",
      "\u001b[36mCell\u001b[39m\u001b[36m \u001b[39m\u001b[32mIn[95]\u001b[39m\u001b[32m, line 1\u001b[39m\n\u001b[32m----> \u001b[39m\u001b[32m1\u001b[39m \u001b[43ma1\u001b[49m\u001b[43m.\u001b[49m\u001b[43mtranfer\u001b[49m(\u001b[32m3000\u001b[39m,a2)\n",
      "\u001b[31mAttributeError\u001b[39m: 'Account' object has no attribute 'tranfer'"
     ]
    }
   ],
   "source": [
    "a1.tranfer(3000,a2)"
   ]
  },
  {
   "cell_type": "code",
   "execution_count": null,
   "id": "5cd10271",
   "metadata": {},
   "outputs": [],
   "source": [
    "a1.check_balance()"
   ]
  },
  {
   "cell_type": "code",
   "execution_count": null,
   "id": "4b30ff4b",
   "metadata": {},
   "outputs": [],
   "source": [
    "a2.check_balance()"
   ]
  },
  {
   "cell_type": "code",
   "execution_count": null,
   "id": "1e840160",
   "metadata": {},
   "outputs": [],
   "source": []
  },
  {
   "cell_type": "code",
   "execution_count": null,
   "id": "49e99f86",
   "metadata": {},
   "outputs": [],
   "source": []
  },
  {
   "cell_type": "code",
   "execution_count": null,
   "id": "1e9c5d19",
   "metadata": {},
   "outputs": [],
   "source": []
  },
  {
   "cell_type": "code",
   "execution_count": null,
   "id": "4ed20d1b",
   "metadata": {},
   "outputs": [],
   "source": []
  }
 ],
 "metadata": {
  "kernelspec": {
   "display_name": "venv",
   "language": "python",
   "name": "python3"
  },
  "language_info": {
   "codemirror_mode": {
    "name": "ipython",
    "version": 3
   },
   "file_extension": ".py",
   "mimetype": "text/x-python",
   "name": "python",
   "nbconvert_exporter": "python",
   "pygments_lexer": "ipython3",
   "version": "3.12.9"
  }
 },
 "nbformat": 4,
 "nbformat_minor": 5
}
